{
 "cells": [
  {
   "cell_type": "code",
   "execution_count": 2,
   "metadata": {},
   "outputs": [
    {
     "name": "stdout",
     "output_type": "stream",
     "text": [
      "Once deleted, variables cannot be recovered. Proceed (y/[n])? y\n"
     ]
    }
   ],
   "source": [
    "%reset\n",
    "import torch\n",
    "import torch.nn as nn\n",
    "import numpy as np\n",
    "from torch.autograd import Variable\n",
    "import matplotlib.pyplot as plt\n",
    "import torchvision.datasets as dsets\n",
    "import torchvision.transforms as transforms"
   ]
  },
  {
   "cell_type": "code",
   "execution_count": 5,
   "metadata": {},
   "outputs": [],
   "source": [
    "train_dataset = dsets.MNIST('./data', train=True, transform = transforms.ToTensor(), download=True)\n",
    "test_dataset = dsets.MNIST('./data', train=False, transform = transforms.ToTensor())"
   ]
  },
  {
   "cell_type": "code",
   "execution_count": 4,
   "metadata": {},
   "outputs": [
    {
     "data": {
      "text/plain": [
       "<matplotlib.image.AxesImage at 0x286fe4910f0>"
      ]
     },
     "execution_count": 4,
     "metadata": {},
     "output_type": "execute_result"
    },
    {
     "data": {
      "image/png": "[encoded data removed]",
      "text/plain": [
       "<matplotlib.figure.Figure at 0x286fdc4cb00>"
      ]
     },
     "metadata": {},
     "output_type": "display_data"
    }
   ],
   "source": [
    "plt.imshow(train_dataset[1][0].numpy().reshape(28,28), cmap='gray')"
   ]
  },
  {
   "cell_type": "code",
   "execution_count": 6,
   "metadata": {},
   "outputs": [],
   "source": [
    "batch_size = 100\n",
    "train_loader = torch.utils.data.DataLoader(dataset=train_dataset, batch_size=batch_size, shuffle=True)\n",
    "test_loader = torch.utils.data.DataLoader(dataset=test_dataset, batch_size=batch_size, shuffle=False)"
   ]
  },
  {
   "cell_type": "code",
   "execution_count": 7,
   "metadata": {},
   "outputs": [
    {
     "data": {
      "text/plain": [
       "True"
      ]
     },
     "execution_count": 7,
     "metadata": {},
     "output_type": "execute_result"
    }
   ],
   "source": [
    "import collections\n",
    "isinstance(test_loader, collections.Iterable)"
   ]
  },
  {
   "cell_type": "code",
   "execution_count": 31,
   "metadata": {},
   "outputs": [],
   "source": [
    "class FeedforwardNeuralNetwork(nn.Module):\n",
    "    def __init__(self, input_dim, hidden_dim, output_dim):\n",
    "        super(FeedforwardNeuralNetwork, self).__init__()\n",
    "        self.fc1 = nn.Linear(input_dim, hidden_dim)\n",
    "        self.activation = nn.ReLU()\n",
    "        self.fc2 = nn.Linear(hidden_dim, output_dim)\n",
    "    def forward(self, x):\n",
    "        y = self.fc1(x)\n",
    "        y = self.activation(y)\n",
    "        y = self.fc2(y)\n",
    "        return y"
   ]
  },
  {
   "cell_type": "code",
   "execution_count": 32,
   "metadata": {},
   "outputs": [],
   "source": [
    "input_dim = 28*28\n",
    "output_dim = 10\n",
    "hidden_dim = 100\n",
    "if torch.cuda.is_available():\n",
    "    model = FeedforwardNeuralNetwork(input_dim, hidden_dim, output_dim).cuda()\n",
    "else:\n",
    "    model = FeedforwardNeuralNetwork(input_dim, hidden_dim, output_dim)\n",
    "criterion = nn.CrossEntropyLoss()\n",
    "optimizer = torch.optim.SGD(model.parameters(), lr = 0.1)"
   ]
  },
  {
   "cell_type": "code",
   "execution_count": 33,
   "metadata": {},
   "outputs": [
    {
     "name": "stdout",
     "output_type": "stream",
     "text": [
      "iter: 500, accuracy: 91, loss: 0.5067033767700195\n",
      "iter: 1000, accuracy: 92, loss: 0.22137676179409027\n",
      "iter: 1500, accuracy: 93, loss: 0.19243893027305603\n",
      "iter: 2000, accuracy: 94, loss: 0.20761285722255707\n",
      "iter: 2500, accuracy: 95, loss: 0.126953586935997\n",
      "iter: 3000, accuracy: 95, loss: 0.10229724645614624\n",
      "iter: 3500, accuracy: 96, loss: 0.1690695583820343\n",
      "iter: 4000, accuracy: 96, loss: 0.061844926327466965\n",
      "iter: 4500, accuracy: 96, loss: 0.13637210428714752\n",
      "iter: 5000, accuracy: 96, loss: 0.08191150426864624\n",
      "iter: 5500, accuracy: 96, loss: 0.054165612906217575\n",
      "iter: 6000, accuracy: 96, loss: 0.04679423198103905\n"
     ]
    }
   ],
   "source": [
    "iter = 0\n",
    "maxAccuracy = 0\n",
    "for epoch in range(10):\n",
    "    for i, (image, labels) in enumerate(train_loader):\n",
    "        if torch.cuda.is_available():\n",
    "            inputs = Variable(image.view(-1, 28*28).cuda())\n",
    "            labels = Variable(labels.cuda())\n",
    "        else:\n",
    "            inputs = Variable(image.view(-1, 28*28))\n",
    "            labels = Variable(labels)\n",
    "        \n",
    "        outputs = model.forward(inputs)\n",
    "        \n",
    "        optimizer.zero_grad()\n",
    "        \n",
    "        loss = criterion(outputs, labels)\n",
    "        loss.backward()\n",
    "        \n",
    "        optimizer.step()\n",
    "        iter += 1\n",
    "        \n",
    "        if iter % 500 == 0:\n",
    "            correct = 0\n",
    "            total = 0\n",
    "            for i, (image, labels) in enumerate(test_loader):\n",
    "                if torch.cuda.is_available():\n",
    "                    inputs = Variable(image.view(-1, 28*28).cuda())\n",
    "                    labels = Variable(labels.cuda())\n",
    "                else:\n",
    "                    inputs = Variable(image.view(-1, 28*28))\n",
    "                    labels = Variable(labels)\n",
    "                \n",
    "                outputs = model.forward(inputs)\n",
    "                _, predicted = torch.max(outputs.data,1)\n",
    "                \n",
    "                correct += (predicted.cpu() == labels.cpu()).sum()\n",
    "                total += labels.size(0)\n",
    "            accuracy = 100 * correct / total\n",
    "            if accuracy > maxAccuracy:\n",
    "                maxAccuracy = accuracy\n",
    "                torch.save(model.state_dict(), 'FeedforwardNNModel.pkl')\n",
    "            print (\"iter: {}, accuracy: {}, loss: {}\".format(iter, accuracy, loss.data))"
   ]
  },
  {
   "cell_type": "code",
   "execution_count": 15,
   "metadata": {},
   "outputs": [
    {
     "name": "stdout",
     "output_type": "stream",
     "text": [
      "FeedforwardNeuralNetwork(\n",
      "  (fc1): Linear(in_features=784, out_features=128, bias=True)\n",
      "  (activation): Sigmoid()\n",
      "  (fc2): Linear(in_features=128, out_features=10, bias=True)\n",
      ")\n"
     ]
    }
   ],
   "source": [
    "print(model)"
   ]
  },
  {
   "cell_type": "code",
   "execution_count": null,
   "metadata": {},
   "outputs": [],
   "source": []
  }
 ],
 "metadata": {
  "kernelspec": {
   "display_name": "Python 3",
   "language": "python",
   "name": "python3"
  },
  "language_info": {
   "codemirror_mode": {
    "name": "ipython",
    "version": 3
   },
   "file_extension": ".py",
   "mimetype": "text/x-python",
   "name": "python",
   "nbconvert_exporter": "python",
   "pygments_lexer": "ipython3",
   "version": "3.6.3"
  }
 },
 "nbformat": 4,
 "nbformat_minor": 2
}
