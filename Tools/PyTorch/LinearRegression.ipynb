{
 "cells": [
  {
   "cell_type": "code",
   "execution_count": 104,
   "metadata": {},
   "outputs": [
    {
     "name": "stdout",
     "output_type": "stream",
     "text": [
      "Once deleted, variables cannot be recovered. Proceed (y/[n])? y\n"
     ]
    }
   ],
   "source": [
    "%reset\n",
    "import torch\n",
    "from torch.autograd import Variable\n",
    "from torch import nn\n",
    "import numpy as np\n",
    "import matplotlib.pyplot as plt"
   ]
  },
  {
   "cell_type": "code",
   "execution_count": 105,
   "metadata": {},
   "outputs": [],
   "source": [
    "class LinearRegressionModel(nn.Module):\n",
    "    def __init__(self, input_dim, output_dim):\n",
    "        super(LinearRegressionModel, self).__init__()\n",
    "        self.linear = nn.Linear(input_dim, output_dim)\n",
    "    def forward(self, x):\n",
    "        y = self.linear(x)\n",
    "        return y"
   ]
  },
  {
   "cell_type": "code",
   "execution_count": 106,
   "metadata": {},
   "outputs": [],
   "source": [
    "input_dim = 1\n",
    "output_dim = 1\n",
    "model = LinearRegressionModel(input_dim, output_dim)\n",
    "if torch.cuda.is_available():\n",
    "    model = model.cuda()\n",
    "criterion = nn.MSELoss()\n",
    "optimizer = torch.optim.SGD(model.parameters(), lr = 0.01)"
   ]
  },
  {
   "cell_type": "code",
   "execution_count": 108,
   "metadata": {},
   "outputs": [],
   "source": [
    "x_values = [i for i in range(11)]\n",
    "x_train = np.array(x_values, dtype = 'float32')\n",
    "x_train = x_train.reshape(-1,1)\n",
    "y_train = 2*x_train + 1"
   ]
  },
  {
   "cell_type": "code",
   "execution_count": 109,
   "metadata": {},
   "outputs": [
    {
     "name": "stderr",
     "output_type": "stream",
     "text": [
      "C:\\Users\\karee\\Anaconda3\\lib\\site-packages\\ipykernel_launcher.py:15: UserWarning: invalid index of a 0-dim tensor. This will be an error in PyTorch 0.5. Use tensor.item() to convert a 0-dim tensor to a Python number\n",
      "  from ipykernel import kernelapp as app\n"
     ]
    },
    {
     "name": "stdout",
     "output_type": "stream",
     "text": [
      "epoch 1, loss 102.78252410888672\n",
      "epoch 2, loss 9.01326847076416\n",
      "epoch 3, loss 1.357776165008545\n",
      "epoch 4, loss 0.7263897657394409\n",
      "epoch 5, loss 0.6680150032043457\n",
      "epoch 6, loss 0.6564552783966064\n",
      "epoch 7, loss 0.6487906575202942\n",
      "epoch 8, loss 0.6415183544158936\n",
      "epoch 9, loss 0.6343523263931274\n",
      "epoch 10, loss 0.6272684335708618\n",
      "epoch 11, loss 0.6202639937400818\n",
      "epoch 12, loss 0.6133374571800232\n",
      "epoch 13, loss 0.6064882874488831\n",
      "epoch 14, loss 0.5997158885002136\n",
      "epoch 15, loss 0.5930190682411194\n",
      "epoch 16, loss 0.5863968729972839\n",
      "epoch 17, loss 0.5798485279083252\n",
      "epoch 18, loss 0.5733736753463745\n",
      "epoch 19, loss 0.5669707655906677\n",
      "epoch 20, loss 0.5606394410133362\n",
      "epoch 21, loss 0.554378867149353\n",
      "epoch 22, loss 0.5481882691383362\n",
      "epoch 23, loss 0.5420666337013245\n",
      "epoch 24, loss 0.5360135436058044\n",
      "epoch 25, loss 0.5300280451774597\n",
      "epoch 26, loss 0.5241092443466187\n",
      "epoch 27, loss 0.5182566046714783\n",
      "epoch 28, loss 0.5124692916870117\n",
      "epoch 29, loss 0.5067463517189026\n",
      "epoch 30, loss 0.5010879635810852\n",
      "epoch 31, loss 0.4954920709133148\n",
      "epoch 32, loss 0.4899589419364929\n",
      "epoch 33, loss 0.4844878315925598\n",
      "epoch 34, loss 0.47907742857933044\n",
      "epoch 35, loss 0.473727822303772\n",
      "epoch 36, loss 0.4684377610683441\n",
      "epoch 37, loss 0.463206946849823\n",
      "epoch 38, loss 0.45803430676460266\n",
      "epoch 39, loss 0.45291951298713684\n",
      "epoch 40, loss 0.44786185026168823\n",
      "epoch 41, loss 0.44286057353019714\n",
      "epoch 42, loss 0.4379153251647949\n",
      "epoch 43, loss 0.433025062084198\n",
      "epoch 44, loss 0.42818957567214966\n",
      "epoch 45, loss 0.42340800166130066\n",
      "epoch 46, loss 0.4186798334121704\n",
      "epoch 47, loss 0.4140045940876007\n",
      "epoch 48, loss 0.4093815088272095\n",
      "epoch 49, loss 0.4048098623752594\n",
      "epoch 50, loss 0.4002895653247833\n",
      "epoch 51, loss 0.39581963419914246\n",
      "epoch 52, loss 0.3913995027542114\n",
      "epoch 53, loss 0.38702890276908875\n",
      "epoch 54, loss 0.3827069103717804\n",
      "epoch 55, loss 0.37843331694602966\n",
      "epoch 56, loss 0.374207466840744\n",
      "epoch 57, loss 0.37002867460250854\n",
      "epoch 58, loss 0.36589667201042175\n",
      "epoch 59, loss 0.3618106544017792\n",
      "epoch 60, loss 0.35777047276496887\n",
      "epoch 61, loss 0.35377514362335205\n",
      "epoch 62, loss 0.3498246669769287\n",
      "epoch 63, loss 0.345918208360672\n",
      "epoch 64, loss 0.34205543994903564\n",
      "epoch 65, loss 0.3382355868816376\n",
      "epoch 66, loss 0.3344586193561554\n",
      "epoch 67, loss 0.3307238817214966\n",
      "epoch 68, loss 0.3270307779312134\n",
      "epoch 69, loss 0.3233788013458252\n",
      "epoch 70, loss 0.319767564535141\n",
      "epoch 71, loss 0.31619691848754883\n",
      "epoch 72, loss 0.3126659691333771\n",
      "epoch 73, loss 0.3091745674610138\n",
      "epoch 74, loss 0.3057219684123993\n",
      "epoch 75, loss 0.30230799317359924\n",
      "epoch 76, loss 0.29893213510513306\n",
      "epoch 77, loss 0.2955940365791321\n",
      "epoch 78, loss 0.2922932207584381\n",
      "epoch 79, loss 0.28902924060821533\n",
      "epoch 80, loss 0.2858016788959503\n",
      "epoch 81, loss 0.282610148191452\n",
      "epoch 82, loss 0.2794542610645294\n",
      "epoch 83, loss 0.27633363008499146\n",
      "epoch 84, loss 0.2732478380203247\n",
      "epoch 85, loss 0.2701966166496277\n",
      "epoch 86, loss 0.26717936992645264\n",
      "epoch 87, loss 0.26419588923454285\n",
      "epoch 88, loss 0.261245459318161\n",
      "epoch 89, loss 0.2583284080028534\n",
      "epoch 90, loss 0.25544363260269165\n",
      "epoch 91, loss 0.2525911033153534\n",
      "epoch 92, loss 0.24977046251296997\n",
      "epoch 93, loss 0.24698124825954437\n",
      "epoch 94, loss 0.2442232221364975\n",
      "epoch 95, loss 0.24149610102176666\n",
      "epoch 96, loss 0.23879948258399963\n",
      "epoch 97, loss 0.23613275587558746\n",
      "epoch 98, loss 0.23349586129188538\n",
      "epoch 99, loss 0.23088836669921875\n",
      "epoch 100, loss 0.22831010818481445\n"
     ]
    }
   ],
   "source": [
    "minLoss = float('inf')\n",
    "for epoch in range(100):\n",
    "    epoch = epoch + 1\n",
    "    if torch.cuda.is_available():\n",
    "        inputs = Variable(torch.from_numpy(x_train).cuda())\n",
    "        labels = Variable(torch.from_numpy(y_train).cuda())\n",
    "    else:\n",
    "        inputs = Variable(torch.from_numpy(x_train))\n",
    "        labels = Variable(torch.from_numpy(y_train))\n",
    "    optimizer.zero_grad()\n",
    "    outputs = model.forward(inputs)\n",
    "    loss = criterion(outputs, labels)\n",
    "    loss.backward()\n",
    "    optimizer.step()\n",
    "    print('epoch {}, loss {}'.format(epoch, loss.data[0]))\n",
    "    if loss < minLoss:\n",
    "        minLoss = loss\n",
    "        torch.save(model.state_dict(), 'LinearRegModel.pkl')"
   ]
  },
  {
   "cell_type": "code",
   "execution_count": 110,
   "metadata": {},
   "outputs": [
    {
     "data": {
      "image/png": "[encoded data removed]",
      "text/plain": [
       "<matplotlib.figure.Figure at 0x211ab6ad7f0>"
      ]
     },
     "metadata": {},
     "output_type": "display_data"
    }
   ],
   "source": [
    "model = LinearRegressionModel(input_dim, output_dim)\n",
    "if torch.cuda.is_available():\n",
    "    model = model.cuda()\n",
    "model.load_state_dict(torch.load('LinearRegModel.pkl'))\n",
    "if torch.cuda.is_available():\n",
    "    y_pred = model.forward(inputs).data.cpu().numpy()\n",
    "else:\n",
    "    y_pred = model.forward(inputs).data.numpy()    \n",
    "plt.clf()\n",
    "plt.plot(x_train, y_train, 'go', alpha = 0.5, label='True Data')\n",
    "plt.plot(x_train, y_pred, '--', alpha = 0.5, label='Predictions')\n",
    "plt.legend(loc='best')\n",
    "plt.show()"
   ]
  },
  {
   "cell_type": "code",
   "execution_count": 112,
   "metadata": {},
   "outputs": [
    {
     "name": "stdout",
     "output_type": "stream",
     "text": [
      "linear.weight tensor([[2.1280]], device='cuda:0')\n",
      "linear.bias tensor([0.1112], device='cuda:0')\n"
     ]
    }
   ],
   "source": [
    "for name, param in model.named_parameters():\n",
    "    if param.requires_grad:\n",
    "        print (name, param.data)"
   ]
  },
  {
   "cell_type": "code",
   "execution_count": null,
   "metadata": {},
   "outputs": [],
   "source": []
  }
 ],
 "metadata": {
  "kernelspec": {
   "display_name": "Python 3",
   "language": "python",
   "name": "python3"
  },
  "language_info": {
   "codemirror_mode": {
    "name": "ipython",
    "version": 3
   },
   "file_extension": ".py",
   "mimetype": "text/x-python",
   "name": "python",
   "nbconvert_exporter": "python",
   "pygments_lexer": "ipython3",
   "version": "3.6.3"
  }
 },
 "nbformat": 4,
 "nbformat_minor": 2
}
